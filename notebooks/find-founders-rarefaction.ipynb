{
 "cells": [
  {
   "cell_type": "code",
   "execution_count": 9,
   "id": "violent-integration",
   "metadata": {},
   "outputs": [],
   "source": [
    "import pandas as pd\n",
    "import seaborn as sns\n",
    "import numpy as np\n",
    "import matplotlib.pyplot as plt\n",
    "import matplotlib.ticker as ticker\n",
    "sns.set_context(\"paper\")"
   ]
  },
  {
   "cell_type": "code",
   "execution_count": 3,
   "id": "fabulous-looking",
   "metadata": {},
   "outputs": [],
   "source": [
    "rf = pd.read_csv(\"pigeon1.0.protein-k10.mc0.05.rarefaction.txt\")"
   ]
  },
  {
   "cell_type": "code",
   "execution_count": 6,
   "id": "congressional-gibson",
   "metadata": {},
   "outputs": [
    {
     "data": {
      "text/html": [
       "<div>\n",
       "<style scoped>\n",
       "    .dataframe tbody tr th:only-of-type {\n",
       "        vertical-align: middle;\n",
       "    }\n",
       "\n",
       "    .dataframe tbody tr th {\n",
       "        vertical-align: top;\n",
       "    }\n",
       "\n",
       "    .dataframe thead th {\n",
       "        text-align: right;\n",
       "    }\n",
       "</style>\n",
       "<table border=\"1\" class=\"dataframe\">\n",
       "  <thead>\n",
       "    <tr style=\"text-align: right;\">\n",
       "      <th></th>\n",
       "      <th>num_founders</th>\n",
       "      <th>num_members</th>\n",
       "      <th>total</th>\n",
       "    </tr>\n",
       "  </thead>\n",
       "  <tbody>\n",
       "    <tr>\n",
       "      <th>0</th>\n",
       "      <td>4121</td>\n",
       "      <td>72661</td>\n",
       "      <td>76782</td>\n",
       "    </tr>\n",
       "    <tr>\n",
       "      <th>1</th>\n",
       "      <td>8716</td>\n",
       "      <td>101500</td>\n",
       "      <td>110216</td>\n",
       "    </tr>\n",
       "    <tr>\n",
       "      <th>2</th>\n",
       "      <td>13432</td>\n",
       "      <td>118843</td>\n",
       "      <td>132275</td>\n",
       "    </tr>\n",
       "    <tr>\n",
       "      <th>3</th>\n",
       "      <td>18163</td>\n",
       "      <td>131094</td>\n",
       "      <td>149257</td>\n",
       "    </tr>\n",
       "    <tr>\n",
       "      <th>4</th>\n",
       "      <td>22961</td>\n",
       "      <td>140258</td>\n",
       "      <td>163219</td>\n",
       "    </tr>\n",
       "    <tr>\n",
       "      <th>5</th>\n",
       "      <td>27765</td>\n",
       "      <td>147345</td>\n",
       "      <td>175110</td>\n",
       "    </tr>\n",
       "    <tr>\n",
       "      <th>6</th>\n",
       "      <td>32609</td>\n",
       "      <td>153094</td>\n",
       "      <td>185703</td>\n",
       "    </tr>\n",
       "    <tr>\n",
       "      <th>7</th>\n",
       "      <td>37469</td>\n",
       "      <td>157610</td>\n",
       "      <td>195079</td>\n",
       "    </tr>\n",
       "    <tr>\n",
       "      <th>8</th>\n",
       "      <td>42324</td>\n",
       "      <td>161477</td>\n",
       "      <td>203801</td>\n",
       "    </tr>\n",
       "    <tr>\n",
       "      <th>9</th>\n",
       "      <td>47193</td>\n",
       "      <td>164426</td>\n",
       "      <td>211619</td>\n",
       "    </tr>\n",
       "    <tr>\n",
       "      <th>10</th>\n",
       "      <td>52071</td>\n",
       "      <td>166878</td>\n",
       "      <td>218949</td>\n",
       "    </tr>\n",
       "    <tr>\n",
       "      <th>11</th>\n",
       "      <td>56966</td>\n",
       "      <td>168944</td>\n",
       "      <td>225910</td>\n",
       "    </tr>\n",
       "    <tr>\n",
       "      <th>12</th>\n",
       "      <td>61846</td>\n",
       "      <td>170652</td>\n",
       "      <td>232498</td>\n",
       "    </tr>\n",
       "    <tr>\n",
       "      <th>13</th>\n",
       "      <td>66741</td>\n",
       "      <td>171909</td>\n",
       "      <td>238650</td>\n",
       "    </tr>\n",
       "    <tr>\n",
       "      <th>14</th>\n",
       "      <td>71640</td>\n",
       "      <td>172861</td>\n",
       "      <td>244501</td>\n",
       "    </tr>\n",
       "    <tr>\n",
       "      <th>15</th>\n",
       "      <td>76550</td>\n",
       "      <td>173607</td>\n",
       "      <td>250157</td>\n",
       "    </tr>\n",
       "    <tr>\n",
       "      <th>16</th>\n",
       "      <td>81466</td>\n",
       "      <td>174094</td>\n",
       "      <td>255560</td>\n",
       "    </tr>\n",
       "    <tr>\n",
       "      <th>17</th>\n",
       "      <td>86375</td>\n",
       "      <td>174408</td>\n",
       "      <td>260783</td>\n",
       "    </tr>\n",
       "    <tr>\n",
       "      <th>18</th>\n",
       "      <td>91288</td>\n",
       "      <td>174523</td>\n",
       "      <td>265811</td>\n",
       "    </tr>\n",
       "    <tr>\n",
       "      <th>19</th>\n",
       "      <td>92280</td>\n",
       "      <td>174525</td>\n",
       "      <td>266805</td>\n",
       "    </tr>\n",
       "  </tbody>\n",
       "</table>\n",
       "</div>"
      ],
      "text/plain": [
       "    num_founders  num_members   total\n",
       "0           4121        72661   76782\n",
       "1           8716       101500  110216\n",
       "2          13432       118843  132275\n",
       "3          18163       131094  149257\n",
       "4          22961       140258  163219\n",
       "5          27765       147345  175110\n",
       "6          32609       153094  185703\n",
       "7          37469       157610  195079\n",
       "8          42324       161477  203801\n",
       "9          47193       164426  211619\n",
       "10         52071       166878  218949\n",
       "11         56966       168944  225910\n",
       "12         61846       170652  232498\n",
       "13         66741       171909  238650\n",
       "14         71640       172861  244501\n",
       "15         76550       173607  250157\n",
       "16         81466       174094  255560\n",
       "17         86375       174408  260783\n",
       "18         91288       174523  265811\n",
       "19         92280       174525  266805"
      ]
     },
     "execution_count": 6,
     "metadata": {},
     "output_type": "execute_result"
    }
   ],
   "source": [
    "rf[\"total\"] = rf[\"num_founders\"] + rf[\"num_members\"]\n",
    "rf"
   ]
  },
  {
   "cell_type": "code",
   "execution_count": 39,
   "id": "bibliographic-humanitarian",
   "metadata": {},
   "outputs": [
    {
     "name": "stderr",
     "output_type": "stream",
     "text": [
      "<ipython-input-39-978165db6351>:6: UserWarning: FixedFormatter should only be used together with FixedLocator\n",
      "  g.set(xticklabels=xlabels)\n",
      "<ipython-input-39-978165db6351>:7: UserWarning: FixedFormatter should only be used together with FixedLocator\n",
      "  g.set(yticklabels=ylabels)\n"
     ]
    },
    {
     "data": {
      "text/plain": [
       "[[Text(0, -20000.0, '-20k'),\n",
       "  Text(0, 0.0, '0k'),\n",
       "  Text(0, 20000.0, '20k'),\n",
       "  Text(0, 40000.0, '40k'),\n",
       "  Text(0, 60000.0, '60k'),\n",
       "  Text(0, 80000.0, '80k'),\n",
       "  Text(0, 100000.0, '100k')]]"
      ]
     },
     "execution_count": 39,
     "metadata": {},
     "output_type": "execute_result"
    },
    {
     "data": {
      "image/png": "[encoded data removed]",
      "text/plain": [
       "<Figure size 432x288 with 1 Axes>"
      ]
     },
     "metadata": {
      "needs_background": "light"
     },
     "output_type": "display_data"
    }
   ],
   "source": [
    "g = sns.scatterplot(data=rf, x=\"total\", y=\"num_founders\")\n",
    "plt.xlabel(\"Total Sigs Processed\", size=14)\n",
    "plt.ylabel(\"Cluster Founders\", size=14)\n",
    "xlabels = [f'{int(x/1000)}k' for x in g.axes.get_xticks()]\n",
    "ylabels = [f'{int(x/1000)}k' for x in g.axes.get_yticks()]\n",
    "g.set(xticklabels=xlabels)\n",
    "g.set(yticklabels=ylabels)\n"
   ]
  },
  {
   "cell_type": "code",
   "execution_count": null,
   "id": "severe-coast",
   "metadata": {},
   "outputs": [],
   "source": []
  },
  {
   "cell_type": "code",
   "execution_count": null,
   "id": "olympic-consent",
   "metadata": {},
   "outputs": [],
   "source": []
  },
  {
   "cell_type": "code",
   "execution_count": null,
   "id": "attempted-condition",
   "metadata": {},
   "outputs": [],
   "source": []
  }
 ],
 "metadata": {
  "kernelspec": {
   "display_name": "Python 3",
   "language": "python",
   "name": "python3"
  },
  "language_info": {
   "codemirror_mode": {
    "name": "ipython",
    "version": 3
   },
   "file_extension": ".py",
   "mimetype": "text/x-python",
   "name": "python",
   "nbconvert_exporter": "python",
   "pygments_lexer": "ipython3",
   "version": "3.8.6"
  }
 },
 "nbformat": 4,
 "nbformat_minor": 5
}
